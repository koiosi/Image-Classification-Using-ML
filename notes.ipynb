{
 "cells": [
  {
   "cell_type": "markdown",
   "id": "a4228c11",
   "metadata": {},
   "source": [
    "# Notes for improvements\n",
    "\n",
    "- find a way to process the data without uploading \n",
    "    Big photo folders are not possible to upload"
   ]
  }
 ],
 "metadata": {
  "language_info": {
   "name": "python"
  }
 },
 "nbformat": 4,
 "nbformat_minor": 5
}
